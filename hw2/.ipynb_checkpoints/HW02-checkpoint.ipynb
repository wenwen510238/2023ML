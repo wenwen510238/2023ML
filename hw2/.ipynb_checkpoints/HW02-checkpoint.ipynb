{
 "cells": [
  {
   "cell_type": "markdown",
   "metadata": {
    "id": "OYlaRwNu7ojq"
   },
   "source": [
    "# **Homework 2-1 Phoneme Classification**\n",
    "\n",
    "* Slides: https://speech.ee.ntu.edu.tw/~hylee/ml/ml2021-course-data/hw/HW02/HW02.pdf\n",
    "* Video (Chinese): https://youtu.be/PdjXnQbu2zo\n",
    "* Video (English): https://youtu.be/ESRr-VCykBs\n"
   ]
  },
  {
   "cell_type": "markdown",
   "metadata": {
    "id": "emUd7uS7crTz"
   },
   "source": [
    "## The DARPA TIMIT Acoustic-Phonetic Continuous Speech Corpus (TIMIT)\n",
    "The TIMIT corpus of reading speech has been designed to provide speech data for the acquisition of acoustic-phonetic knowledge and for the development and evaluation of automatic speech recognition systems.\n",
    "\n",
    "This homework is a multiclass classification task, \n",
    "we are going to train a deep neural network classifier to predict the phonemes for each frame from the speech corpus TIMIT.\n",
    "\n",
    "link: https://academictorrents.com/details/34e2b78745138186976cbc27939b1b34d18bd5b3"
   ]
  },
  {
   "cell_type": "markdown",
   "metadata": {
    "id": "KVUGfWTo7_Oj"
   },
   "source": [
    "## Download Data\n",
    "Download data from google drive, then unzip it.\n",
    "\n",
    "You should have `timit_11/train_11.npy`, `timit_11/train_label_11.npy`, and `timit_11/test_11.npy` after running this block.<br><br>\n",
    "`timit_11/`\n",
    "- `train_11.npy`: training data<br>\n",
    "- `train_label_11.npy`: training label<br>\n",
    "- `test_11.npy`:  testing data<br><br>\n",
    "\n",
    "**notes: if the google drive link is dead, you can download the data directly from Kaggle and upload it to the workspace**\n",
    "\n",
    "\n"
   ]
  },
  {
   "cell_type": "code",
   "execution_count": 293,
   "metadata": {
    "colab": {
     "base_uri": "https://localhost:8080/"
    },
    "id": "OzkiMEcC3Foq",
    "outputId": "6ec92fc0-6cbd-40b2-bf4a-d326328e2ac4"
   },
   "outputs": [],
   "source": [
    "# !pip install --upgrade --no-cache-dir gdown\n",
    "# !gdown --id '1iDmtJ8vg-SF8dC0r0AoOg4n5UdVOj9To' --output data.zip\n",
    "# !unzip data.zip\n",
    "# !ls \n"
   ]
  },
  {
   "cell_type": "markdown",
   "metadata": {
    "id": "_L_4anls8Drv"
   },
   "source": [
    "## Preparing Data\n",
    "Load the training and testing data from the `.npy` file (NumPy array)."
   ]
  },
  {
   "cell_type": "code",
   "execution_count": 294,
   "metadata": {
    "colab": {
     "base_uri": "https://localhost:8080/"
    },
    "id": "IJjLT8em-y9G",
    "outputId": "bc5a92c5-1bed-4a32-9af6-2f3788570f2f"
   },
   "outputs": [
    {
     "name": "stdout",
     "output_type": "stream",
     "text": [
      "Loading data ...\n",
      "Size of training data: (922449, 429)\n",
      "Size of training_label data: (922449,)\n",
      "Size of testing data: (307483, 429)\n"
     ]
    }
   ],
   "source": [
    "import numpy as np\n",
    "\n",
    "print('Loading data ...')\n",
    "\n",
    "# data_root='./timit_11/'\n",
    "# train = np.load(data_root + 'train_11.npy')\n",
    "# train_label = np.load(data_root + 'train_label_11.npy')\n",
    "# test = np.load(data_root + 'test_11.npy')\n",
    "data_root='C:/Users/wenwe/Desktop/111_2/Intro_MachineLearning/hw2/timit_11/'\n",
    "train = np.load(data_root + 'train_11.npy')\n",
    "train_label = np.load(data_root + 'train_label_11.npy')\n",
    "test = np.load(data_root + 'test_11.npy')\n",
    "\n",
    "print('Size of training data: {}'.format(train.shape))\n",
    "print('Size of training_label data: {}'.format(train_label.shape))\n",
    "print('Size of testing data: {}'.format(test.shape))"
   ]
  },
  {
   "cell_type": "markdown",
   "metadata": {
    "id": "us5XW_x6udZQ"
   },
   "source": [
    "## Create Dataset"
   ]
  },
  {
   "cell_type": "code",
   "execution_count": 295,
   "metadata": {
    "id": "Fjf5EcmJtf4e"
   },
   "outputs": [],
   "source": [
    "import torch\n",
    "from torch.utils.data import Dataset\n",
    "\n",
    "class TIMITDataset(Dataset):\n",
    "    def __init__(self, X, y=None):\n",
    "        self.data = torch.from_numpy(X).float()\n",
    "        if y is not None:\n",
    "            y = y.astype(np.int)\n",
    "            self.label = torch.LongTensor(y)\n",
    "        else:\n",
    "            self.label = None\n",
    "\n",
    "    def __getitem__(self, idx):\n",
    "        if self.label is not None:\n",
    "            return self.data[idx], self.label[idx]\n",
    "        else:\n",
    "            return self.data[idx]\n",
    "\n",
    "    def __len__(self):\n",
    "        return len(self.data)\n"
   ]
  },
  {
   "cell_type": "markdown",
   "metadata": {
    "id": "otIC6WhGeh9v"
   },
   "source": [
    "Split the labeled data into a training set and a validation set, you can modify the variable `VAL_RATIO` to change the ratio of validation data."
   ]
  },
  {
   "cell_type": "code",
   "execution_count": 296,
   "metadata": {
    "colab": {
     "base_uri": "https://localhost:8080/"
    },
    "id": "sYqi_lAuvC59",
    "outputId": "5055a0bd-3808-47fa-8883-0afd85435a8b"
   },
   "outputs": [
    {
     "name": "stdout",
     "output_type": "stream",
     "text": [
      "Size of training set: (876326, 429)\n",
      "Size of validation set: (46123, 429)\n"
     ]
    }
   ],
   "source": [
    "VAL_RATIO = 0.05\n",
    "\n",
    "percent = int(train.shape[0] * (1 - VAL_RATIO))\n",
    "train_x, train_y, val_x, val_y = train[:percent], train_label[:percent], train[percent:], train_label[percent:]\n",
    "print('Size of training set: {}'.format(train_x.shape))\n",
    "print('Size of validation set: {}'.format(val_x.shape))"
   ]
  },
  {
   "cell_type": "markdown",
   "metadata": {
    "id": "nbCfclUIgMTX"
   },
   "source": [
    "Create a data loader from the dataset, feel free to tweak the variable `BATCH_SIZE` here."
   ]
  },
  {
   "cell_type": "code",
   "execution_count": 297,
   "metadata": {
    "colab": {
     "base_uri": "https://localhost:8080/"
    },
    "id": "RUCbQvqJurYc",
    "outputId": "f36ce410-f261-44ba-ded1-cf66a5e01216"
   },
   "outputs": [
    {
     "name": "stderr",
     "output_type": "stream",
     "text": [
      "C:\\Users\\wenwe\\AppData\\Local\\Temp\\ipykernel_5352\\348484277.py:8: DeprecationWarning: `np.int` is a deprecated alias for the builtin `int`. To silence this warning, use `int` by itself. Doing this will not modify any behavior and is safe. When replacing `np.int`, you may wish to use e.g. `np.int64` or `np.int32` to specify the precision. If you wish to review your current use, check the release note link for additional information.\n",
      "Deprecated in NumPy 1.20; for more details and guidance: https://numpy.org/devdocs/release/1.20.0-notes.html#deprecations\n",
      "  y = y.astype(np.int)\n"
     ]
    }
   ],
   "source": [
    "# BATCH_SIZE = 64\n",
    "BATCH_SIZE = 1024\n",
    "\n",
    "from torch.utils.data import DataLoader\n",
    "\n",
    "train_set = TIMITDataset(train_x, train_y)\n",
    "val_set = TIMITDataset(val_x, val_y)\n",
    "train_loader = DataLoader(train_set, batch_size=BATCH_SIZE, shuffle=True) #only shuffle the training data\n",
    "val_loader = DataLoader(val_set, batch_size=BATCH_SIZE, shuffle=False)"
   ]
  },
  {
   "cell_type": "markdown",
   "metadata": {
    "id": "_SY7X0lUgb50"
   },
   "source": [
    "Cleanup the unneeded variables to save memory.<br>\n",
    "\n",
    "**notes: if you need to use these variables later, then you may remove this block or clean up unneeded variables later<br>the data size is quite huge, so be aware of memory usage in colab**"
   ]
  },
  {
   "cell_type": "code",
   "execution_count": 298,
   "metadata": {
    "colab": {
     "base_uri": "https://localhost:8080/"
    },
    "id": "y8rzkGraeYeN",
    "outputId": "87d0eeac-4934-4028-e89a-c92a776ab973"
   },
   "outputs": [
    {
     "data": {
      "text/plain": [
       "33"
      ]
     },
     "execution_count": 298,
     "metadata": {},
     "output_type": "execute_result"
    }
   ],
   "source": [
    "import gc\n",
    "\n",
    "del train, train_label, train_x, train_y, val_x, val_y\n",
    "gc.collect()"
   ]
  },
  {
   "cell_type": "markdown",
   "metadata": {
    "id": "IRqKNvNZwe3V"
   },
   "source": [
    "## Create Model"
   ]
  },
  {
   "cell_type": "markdown",
   "metadata": {
    "id": "FYr1ng5fh9pA"
   },
   "source": [
    "Define model architecture, you are encouraged to change and experiment with the model architecture."
   ]
  },
  {
   "cell_type": "code",
   "execution_count": 299,
   "metadata": {
    "id": "lbZrwT6Ny0XL"
   },
   "outputs": [],
   "source": [
    "import torch\n",
    "import torch.nn as nn\n",
    "\n",
    "class Classifier(nn.Module):\n",
    "    def __init__(self):\n",
    "        super(Classifier, self).__init__()\n",
    "        # self.layer1 = nn.Linear(429, 1024)\n",
    "        # self.layer2 = nn.Linear(1024, 512)\n",
    "        # self.layer3 = nn.Linear(512, 128)\n",
    "        # self.out = nn.Linear(128, 39) \n",
    "\n",
    "        # self.act_fn = nn.Sigmoid()\n",
    "\n",
    "#         self.fc1 = nn.Linear(429, 1024)\n",
    "#         self.fc2 = nn.Linear(2048, 1024)\n",
    "#         self.fc3 = nn.Linear(1024, 512)\n",
    "#         self.fc4 = nn.Linear(512, 256)\n",
    "#         self.fc5 = nn.Linear(256, 128)\n",
    "#         self.out = nn.Linear(128, 39)\n",
    "\n",
    "#         self.dropout = nn.Dropout(0.25)\n",
    "#         self.batchnorm0 = nn.BatchNorm1d(2048)\n",
    "#         self.batchnorm1 = nn.BatchNorm1d(1024)\n",
    "#         self.batchnorm2 = nn.BatchNorm1d(512)\n",
    "#         self.batchnorm3 = nn.BatchNorm1d(256)\n",
    "#         self.batchnorm4 = nn.BatchNorm1d(128)\n",
    "\n",
    "#         self.act_fn = nn.ReLU()\n",
    "        self.layer0 = nn.Linear(429,2048)\n",
    "        self.layer1 = nn.Linear(2048, 1024)\n",
    "        self.layer2 = nn.Linear(1024, 512)\n",
    "        self.layer3 = nn.Linear(512, 128)\n",
    "        self.layer4 = nn.Linear(512, 512)\n",
    "        self.out = nn.Linear(128, 39) \n",
    "\n",
    "        self.act_fn = nn.ReLU()\n",
    "        self.dropout = nn.Dropout(0.25)\n",
    "        self.batchnorm0 = nn.BatchNorm1d(2048)\n",
    "        self.batchnorm1 = nn.BatchNorm1d(1024)\n",
    "        self.batchnorm2 = nn.BatchNorm1d(512)\n",
    "        self.batchnorm3 = nn.BatchNorm1d(128)\n",
    "        self.batchnorm4 = nn.BatchNorm1d(256)\n",
    "\n",
    "    def forward(self, x):\n",
    "#         x = self.fc1(x)\n",
    "#         x = self.batchnorm1(x)\n",
    "#         x = self.act_fn(x)\n",
    "#         x = self.dropout(x)\n",
    "\n",
    "#         x = self.fc3(x)\n",
    "#         x = self.batchnorm2(x)\n",
    "#         x = self.act_fn(x)\n",
    "# #         x = self.dropout(x)\n",
    "\n",
    "#         x = self.fc4(x)\n",
    "#         x = self.batchnorm3(x)\n",
    "#         x = self.act_fn(x)\n",
    "#         x = self.dropout(x)\n",
    "\n",
    "#         x = self.fc5(x)\n",
    "#         x = self.batchnorm4(x)\n",
    "#         x = self.act_fn(x)\n",
    "\n",
    "#         x = self.out(x)\n",
    "        \n",
    "#         return x\n",
    "        x = self.layer0(x)\n",
    "        x = self.batchnorm0(x)\n",
    "        x = self.act_fn(x)\n",
    "        x = self.dropout(x)\n",
    "        \n",
    "        x = self.layer1(x)\n",
    "        x = self.batchnorm1(x)\n",
    "        x = self.act_fn(x)\n",
    "        x = self.dropout(x)\n",
    "\n",
    "        x = self.layer2(x)\n",
    "        x = self.batchnorm2(x)\n",
    "        x = self.act_fn(x)\n",
    "        x = self.dropout(x)\n",
    "\n",
    "        x = self.layer3(x)\n",
    "        x = self.batchnorm3(x)\n",
    "        x = self.act_fn(x)\n",
    "\n",
    "        x = self.out(x)\n",
    "        \n",
    "        return x"
   ]
  },
  {
   "cell_type": "markdown",
   "metadata": {
    "id": "VRYciXZvPbYh"
   },
   "source": [
    "## Training"
   ]
  },
  {
   "cell_type": "code",
   "execution_count": 300,
   "metadata": {
    "id": "y114Vmm3Ja6o"
   },
   "outputs": [],
   "source": [
    "#check device\n",
    "def get_device():\n",
    "    return 'cuda' if torch.cuda.is_available() else 'cpu'"
   ]
  },
  {
   "cell_type": "markdown",
   "metadata": {
    "id": "sEX-yjHjhGuH"
   },
   "source": [
    "Fix random seeds for reproducibility."
   ]
  },
  {
   "cell_type": "code",
   "execution_count": 301,
   "metadata": {
    "id": "88xPiUnm0tAd"
   },
   "outputs": [],
   "source": [
    "# fix random seed\n",
    "def same_seeds(seed):\n",
    "    torch.manual_seed(seed)\n",
    "    if torch.cuda.is_available():\n",
    "        torch.cuda.manual_seed(seed)\n",
    "        torch.cuda.manual_seed_all(seed)  \n",
    "    np.random.seed(seed)  \n",
    "    torch.backends.cudnn.benchmark = False\n",
    "    torch.backends.cudnn.deterministic = True"
   ]
  },
  {
   "cell_type": "markdown",
   "metadata": {
    "id": "KbBcBXkSp6RA"
   },
   "source": [
    "Feel free to change the training parameters here."
   ]
  },
  {
   "cell_type": "code",
   "execution_count": 302,
   "metadata": {
    "colab": {
     "base_uri": "https://localhost:8080/"
    },
    "id": "QTp3ZXg1yO9Y",
    "outputId": "8b81d0d3-8d06-4ad8-e4b6-b6bdb4619c9e"
   },
   "outputs": [
    {
     "name": "stdout",
     "output_type": "stream",
     "text": [
      "DEVICE: cuda\n"
     ]
    }
   ],
   "source": [
    "# fix random seed for reproducibility\n",
    "same_seeds(0)\n",
    "\n",
    "# get device \n",
    "device = get_device()\n",
    "print(f'DEVICE: {device}')\n",
    "\n",
    "# training parameters\n",
    "num_epoch = 50           # number of training epoch\n",
    "learning_rate = 0.0001       # learning rate\n",
    "\n",
    "# the path where checkpoint saved\n",
    "model_path = './model.ckpt'\n",
    "\n",
    "# create model, define a loss function, and optimizer\n",
    "model = Classifier().to(device)\n",
    "criterion = nn.CrossEntropyLoss() \n",
    "# optimizer = torch.optim.Adam(model.parameters(), lr=learning_rate)\n",
    "optimizer = torch.optim.RAdam(model.parameters(), lr=learning_rate, weight_decay = 0.00001)"
   ]
  },
  {
   "cell_type": "code",
   "execution_count": 303,
   "metadata": {
    "colab": {
     "background_save": true
    },
    "id": "CdMWsBs7zzNs"
   },
   "outputs": [
    {
     "name": "stdout",
     "output_type": "stream",
     "text": [
      "[001/050] Train Acc: 0.421126 Loss: 2.344706 | Val Acc: 0.553346 loss: 1.644112\n",
      "saving model with acc 0.553\n",
      "[002/050] Train Acc: 0.586471 Loss: 1.461908 | Val Acc: 0.637144 loss: 1.232014\n",
      "saving model with acc 0.637\n",
      "[003/050] Train Acc: 0.639307 Loss: 1.198411 | Val Acc: 0.661861 loss: 1.101772\n",
      "saving model with acc 0.662\n",
      "[004/050] Train Acc: 0.664116 Loss: 1.084387 | Val Acc: 0.677016 loss: 1.035080\n",
      "saving model with acc 0.677\n",
      "[005/050] Train Acc: 0.679222 Loss: 1.017901 | Val Acc: 0.686902 loss: 0.990179\n",
      "saving model with acc 0.687\n",
      "[006/050] Train Acc: 0.691357 Loss: 0.970627 | Val Acc: 0.694968 loss: 0.959537\n",
      "saving model with acc 0.695\n",
      "[007/050] Train Acc: 0.700872 Loss: 0.933791 | Val Acc: 0.701819 loss: 0.937196\n",
      "saving model with acc 0.702\n",
      "[008/050] Train Acc: 0.708977 Loss: 0.902978 | Val Acc: 0.708475 loss: 0.914971\n",
      "saving model with acc 0.708\n",
      "[009/050] Train Acc: 0.715723 Loss: 0.877381 | Val Acc: 0.711055 loss: 0.908897\n",
      "saving model with acc 0.711\n",
      "[010/050] Train Acc: 0.721851 Loss: 0.854343 | Val Acc: 0.714026 loss: 0.897182\n",
      "saving model with acc 0.714\n",
      "[011/050] Train Acc: 0.727694 Loss: 0.833029 | Val Acc: 0.717364 loss: 0.888428\n",
      "saving model with acc 0.717\n",
      "[012/050] Train Acc: 0.732581 Loss: 0.815428 | Val Acc: 0.718123 loss: 0.882786\n",
      "saving model with acc 0.718\n",
      "[013/050] Train Acc: 0.737458 Loss: 0.797887 | Val Acc: 0.719468 loss: 0.878262\n",
      "saving model with acc 0.719\n",
      "[014/050] Train Acc: 0.742020 Loss: 0.782742 | Val Acc: 0.718817 loss: 0.873936\n",
      "[015/050] Train Acc: 0.746102 Loss: 0.767413 | Val Acc: 0.721462 loss: 0.872035\n",
      "saving model with acc 0.721\n",
      "[016/050] Train Acc: 0.749753 Loss: 0.754705 | Val Acc: 0.725213 loss: 0.867125\n",
      "saving model with acc 0.725\n",
      "[017/050] Train Acc: 0.753886 Loss: 0.738896 | Val Acc: 0.724779 loss: 0.863959\n",
      "[018/050] Train Acc: 0.757558 Loss: 0.727041 | Val Acc: 0.725842 loss: 0.866753\n",
      "saving model with acc 0.726\n",
      "[019/050] Train Acc: 0.760995 Loss: 0.714838 | Val Acc: 0.726015 loss: 0.864857\n",
      "saving model with acc 0.726\n",
      "[020/050] Train Acc: 0.764949 Loss: 0.702607 | Val Acc: 0.726991 loss: 0.864569\n",
      "saving model with acc 0.727\n",
      "[021/050] Train Acc: 0.768090 Loss: 0.691611 | Val Acc: 0.728465 loss: 0.858793\n",
      "saving model with acc 0.728\n",
      "[022/050] Train Acc: 0.770846 Loss: 0.680894 | Val Acc: 0.727013 loss: 0.868887\n",
      "[023/050] Train Acc: 0.773921 Loss: 0.671650 | Val Acc: 0.728487 loss: 0.864753\n",
      "saving model with acc 0.728\n",
      "[024/050] Train Acc: 0.776965 Loss: 0.661086 | Val Acc: 0.729072 loss: 0.866809\n",
      "saving model with acc 0.729\n",
      "[025/050] Train Acc: 0.778909 Loss: 0.652982 | Val Acc: 0.731240 loss: 0.860251\n",
      "saving model with acc 0.731\n",
      "[026/050] Train Acc: 0.782062 Loss: 0.642135 | Val Acc: 0.729332 loss: 0.866166\n",
      "[027/050] Train Acc: 0.784885 Loss: 0.633621 | Val Acc: 0.728183 loss: 0.870001\n",
      "[028/050] Train Acc: 0.787896 Loss: 0.623921 | Val Acc: 0.729701 loss: 0.867195\n",
      "[029/050] Train Acc: 0.790508 Loss: 0.616264 | Val Acc: 0.729701 loss: 0.872576\n",
      "[030/050] Train Acc: 0.792699 Loss: 0.607825 | Val Acc: 0.728986 loss: 0.873510\n",
      "Early Stop!!!!!!!!!!\n"
     ]
    }
   ],
   "source": [
    "# start training\n",
    "\n",
    "best_acc = 0.0\n",
    "mse_loss = 1000\n",
    "early_stop_cnt = 0\n",
    "EarlyStop = 5\n",
    "for epoch in range(num_epoch):\n",
    "    train_acc = 0.0\n",
    "    train_loss = 0.0\n",
    "    val_acc = 0.0\n",
    "    val_loss = 0.0\n",
    "\n",
    "    # training\n",
    "    model.train() # set the model to training mode\n",
    "    for i, data in enumerate(train_loader):\n",
    "        inputs, labels = data\n",
    "        inputs, labels = inputs.to(device), labels.to(device)\n",
    "        optimizer.zero_grad() \n",
    "        outputs = model(inputs) \n",
    "        batch_loss = criterion(outputs, labels)\n",
    "        _, train_pred = torch.max(outputs, 1) # get the index of the class with the highest probability\n",
    "        batch_loss.backward() \n",
    "        optimizer.step() \n",
    "\n",
    "        train_acc += (train_pred.cpu() == labels.cpu()).sum().item()\n",
    "        train_loss += batch_loss.item()\n",
    "\n",
    "    # validation\n",
    "    if len(val_set) > 0:\n",
    "        model.eval() # set the model to evaluation mode\n",
    "        with torch.no_grad():\n",
    "            for i, data in enumerate(val_loader):\n",
    "                inputs, labels = data\n",
    "                inputs, labels = inputs.to(device), labels.to(device)\n",
    "                outputs = model(inputs)\n",
    "                batch_loss = criterion(outputs, labels) \n",
    "                _, val_pred = torch.max(outputs, 1) \n",
    "            \n",
    "                val_acc += (val_pred.cpu() == labels.cpu()).sum().item() # get the index of the class with the highest probability\n",
    "                val_loss += batch_loss.item()\n",
    "\n",
    "            print('[{:03d}/{:03d}] Train Acc: {:3.6f} Loss: {:3.6f} | Val Acc: {:3.6f} loss: {:3.6f}'.format(\n",
    "                epoch + 1, num_epoch, train_acc/len(train_set), train_loss/len(train_loader), val_acc/len(val_set), val_loss/len(val_loader)\n",
    "            ))\n",
    "\n",
    "            # if the model improves, save a checkpoint at this epoch\n",
    "            if val_acc > best_acc:\n",
    "                best_acc = val_acc\n",
    "                torch.save(model.state_dict(), model_path)\n",
    "                print('saving model with acc {:.3f}'.format(best_acc/len(val_set)))\n",
    "                early_stop_cnt = 0\n",
    "            else:\n",
    "                early_stop_cnt += 1\n",
    "    else:\n",
    "        print('[{:03d}/{:03d}] Train Acc: {:3.6f} Loss: {:3.6f}'.format(\n",
    "            epoch + 1, num_epoch, train_acc/len(train_set), train_loss/len(train_loader)\n",
    "        ))\n",
    "    if early_stop_cnt >= EarlyStop:\n",
    "        print('Early Stop!!!!!!!!!!')\n",
    "        break\n",
    "\n",
    "# if not validating, save the last epoch\n",
    "if len(val_set) == 0:\n",
    "    torch.save(model.state_dict(), model_path)\n",
    "    print('saving model at last epoch')\n"
   ]
  },
  {
   "cell_type": "markdown",
   "metadata": {
    "id": "1Hi7jTn3PX-m"
   },
   "source": [
    "## Testing"
   ]
  },
  {
   "cell_type": "markdown",
   "metadata": {
    "id": "NfUECMFCn5VG"
   },
   "source": [
    "Create a testing dataset, and load model from the saved checkpoint."
   ]
  },
  {
   "cell_type": "code",
   "execution_count": 304,
   "metadata": {
    "id": "1PKjtAScPWtr"
   },
   "outputs": [
    {
     "data": {
      "text/plain": [
       "<All keys matched successfully>"
      ]
     },
     "execution_count": 304,
     "metadata": {},
     "output_type": "execute_result"
    }
   ],
   "source": [
    "# create testing dataset\n",
    "test_set = TIMITDataset(test, None)\n",
    "test_loader = DataLoader(test_set, batch_size=BATCH_SIZE, shuffle=False)\n",
    "\n",
    "# create model and load weights from checkpoint\n",
    "model = Classifier().to(device)\n",
    "model.load_state_dict(torch.load(model_path))"
   ]
  },
  {
   "cell_type": "markdown",
   "metadata": {
    "id": "940TtCCdoYd0"
   },
   "source": [
    "Make prediction."
   ]
  },
  {
   "cell_type": "code",
   "execution_count": 305,
   "metadata": {
    "id": "84HU5GGjPqR0"
   },
   "outputs": [],
   "source": [
    "predict = []\n",
    "model.eval() # set the model to evaluation mode\n",
    "with torch.no_grad():\n",
    "    for i, data in enumerate(test_loader):\n",
    "        inputs = data\n",
    "        inputs = inputs.to(device)\n",
    "        outputs = model(inputs)\n",
    "        _, test_pred = torch.max(outputs, 1) # get the index of the class with the highest probability\n",
    "\n",
    "        for y in test_pred.cpu().numpy():\n",
    "            predict.append(y)"
   ]
  },
  {
   "cell_type": "markdown",
   "metadata": {
    "id": "AWDf_C-omElb"
   },
   "source": [
    "Write prediction to a CSV file.\n",
    "\n",
    "After finish running this block, download the file `prediction.csv` from the files section on the left-hand side and submit it to Kaggle."
   ]
  },
  {
   "cell_type": "code",
   "execution_count": 306,
   "metadata": {
    "id": "GuljYSPHcZir"
   },
   "outputs": [],
   "source": [
    "with open('prediction8.csv', 'w') as f:\n",
    "    f.write('Id,Class\\n')\n",
    "    for i, y in enumerate(predict):\n",
    "        f.write('{},{}\\n'.format(i, y))"
   ]
  },
  {
   "cell_type": "code",
   "execution_count": 307,
   "metadata": {
    "id": "gT6ZwvrhQ0mM"
   },
   "outputs": [],
   "source": [
    "# import csv\n",
    "# with open('prediction.csv', 'w') as fp:\n",
    "#         writer = csv.writer(fp)\n",
    "#         writer.writerow(['Id', 'Class'])\n",
    "#         for i, p in enumerate(predict):\n",
    "#             writer.writerow([i, p])"
   ]
  }
 ],
 "metadata": {
  "colab": {
   "machine_shape": "hm",
   "provenance": []
  },
  "gpuClass": "standard",
  "kernelspec": {
   "display_name": "Python 3 (ipykernel)",
   "language": "python",
   "name": "python3"
  },
  "language_info": {
   "codemirror_mode": {
    "name": "ipython",
    "version": 3
   },
   "file_extension": ".py",
   "mimetype": "text/x-python",
   "name": "python",
   "nbconvert_exporter": "python",
   "pygments_lexer": "ipython3",
   "version": "3.8.15"
  }
 },
 "nbformat": 4,
 "nbformat_minor": 1
}
